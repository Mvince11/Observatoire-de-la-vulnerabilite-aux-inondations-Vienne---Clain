{
  "cells": [
    {
      "cell_type": "markdown",
      "metadata": {},
      "source": [
        "---\n",
        "title: \"\"\n",
        "---\n",
        "\n",
        "\n",
        "\n",
        "\n",
        "```markdown"
      ],
      "id": "e524ef76"
    },
    {
      "cell_type": "code",
      "metadata": {},
      "source": [
        "with open(\"images/apropos_accueil-1.md\") as f:\n",
        "    print(f.read())"
      ],
      "id": "f8477056",
      "execution_count": null,
      "outputs": []
    },
    {
      "cell_type": "markdown",
      "metadata": {},
      "source": [
        "```"
      ],
      "id": "54ba7870"
    }
  ],
  "metadata": {
    "kernelspec": {
      "display_name": "Python 3",
      "language": "python",
      "name": "python3"
    }
  },
  "nbformat": 4,
  "nbformat_minor": 5
}